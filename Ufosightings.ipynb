{
  "nbformat": 4,
  "nbformat_minor": 0,
  "metadata": {
    "colab": {
      "name": "Ufosightings.ipynb",
      "provenance": []
    },
    "kernelspec": {
      "name": "python3",
      "display_name": "Python 3"
    },
    "language_info": {
      "name": "python"
    }
  },
  "cells": [
    {
      "cell_type": "code",
      "execution_count": 1,
      "metadata": {
        "id": "P7S_NkrfnvAo"
      },
      "outputs": [],
      "source": [
        "import pandas as pd\n",
        "import numpy as np\n",
        "import seaborn as sns"
      ]
    },
    {
      "cell_type": "code",
      "source": [
        "df  = pd.read_csv('https://raw.githubusercontent.com/microsoft/ML-For-Beginners/main/3-Web-App/1-Web-App/data/ufos.csv')"
      ],
      "metadata": {
        "id": "IovlC8m9oNFh"
      },
      "execution_count": 2,
      "outputs": []
    },
    {
      "cell_type": "code",
      "source": [
        "df"
      ],
      "metadata": {
        "colab": {
          "base_uri": "https://localhost:8080/",
          "height": 1000
        },
        "id": "3ZqIRAmHoSQF",
        "outputId": "e786cf37-ec10-4e15-d46e-6e7c327e3431"
      },
      "execution_count": 3,
      "outputs": [
        {
          "output_type": "execute_result",
          "data": {
            "text/plain": [
              "               datetime                  city state country     shape  \\\n",
              "0      10/10/1949 20:30            san marcos    tx      us  cylinder   \n",
              "1      10/10/1949 21:00          lackland afb    tx     NaN     light   \n",
              "2      10/10/1955 17:00  chester (uk/england)   NaN      gb    circle   \n",
              "3      10/10/1956 21:00                  edna    tx      us    circle   \n",
              "4      10/10/1960 20:00               kaneohe    hi      us     light   \n",
              "...                 ...                   ...   ...     ...       ...   \n",
              "80327    9/9/2013 21:15             nashville    tn      us     light   \n",
              "80328    9/9/2013 22:00                 boise    id      us    circle   \n",
              "80329    9/9/2013 22:00                  napa    ca      us     other   \n",
              "80330    9/9/2013 22:20                vienna    va      us    circle   \n",
              "80331    9/9/2013 23:00                edmond    ok      us     cigar   \n",
              "\n",
              "       duration (seconds) duration (hours/min)  \\\n",
              "0                  2700.0           45 minutes   \n",
              "1                  7200.0              1-2 hrs   \n",
              "2                    20.0           20 seconds   \n",
              "3                    20.0             1/2 hour   \n",
              "4                   900.0           15 minutes   \n",
              "...                   ...                  ...   \n",
              "80327               600.0           10 minutes   \n",
              "80328              1200.0           20 minutes   \n",
              "80329              1200.0                 hour   \n",
              "80330                 5.0            5 seconds   \n",
              "80331              1020.0           17 minutes   \n",
              "\n",
              "                                                comments date posted  \\\n",
              "0      This event took place in early fall around 194...   4/27/2004   \n",
              "1      1949 Lackland AFB&#44 TX.  Lights racing acros...  12/16/2005   \n",
              "2      Green/Orange circular disc over Chester&#44 En...   1/21/2008   \n",
              "3      My older brother and twin sister were leaving ...   1/17/2004   \n",
              "4      AS a Marine 1st Lt. flying an FJ4B fighter/att...   1/22/2004   \n",
              "...                                                  ...         ...   \n",
              "80327  Round from the distance/slowly changing colors...   9/30/2013   \n",
              "80328  Boise&#44 ID&#44 spherical&#44 20 min&#44 10 r...   9/30/2013   \n",
              "80329                                       Napa UFO&#44   9/30/2013   \n",
              "80330  Saw a five gold lit cicular craft moving fastl...   9/30/2013   \n",
              "80331  2 witnesses 2  miles apart&#44 Red &amp; White...   9/30/2013   \n",
              "\n",
              "        latitude   longitude  \n",
              "0      29.883056  -97.941111  \n",
              "1      29.384210  -98.581082  \n",
              "2      53.200000   -2.916667  \n",
              "3      28.978333  -96.645833  \n",
              "4      21.418056 -157.803611  \n",
              "...          ...         ...  \n",
              "80327  36.165833  -86.784444  \n",
              "80328  43.613611 -116.202500  \n",
              "80329  38.297222 -122.284444  \n",
              "80330  38.901111  -77.265556  \n",
              "80331  35.652778  -97.477778  \n",
              "\n",
              "[80332 rows x 11 columns]"
            ],
            "text/html": [
              "\n",
              "  <div id=\"df-a180bad5-6b22-4be5-9ee0-db1529f1d880\">\n",
              "    <div class=\"colab-df-container\">\n",
              "      <div>\n",
              "<style scoped>\n",
              "    .dataframe tbody tr th:only-of-type {\n",
              "        vertical-align: middle;\n",
              "    }\n",
              "\n",
              "    .dataframe tbody tr th {\n",
              "        vertical-align: top;\n",
              "    }\n",
              "\n",
              "    .dataframe thead th {\n",
              "        text-align: right;\n",
              "    }\n",
              "</style>\n",
              "<table border=\"1\" class=\"dataframe\">\n",
              "  <thead>\n",
              "    <tr style=\"text-align: right;\">\n",
              "      <th></th>\n",
              "      <th>datetime</th>\n",
              "      <th>city</th>\n",
              "      <th>state</th>\n",
              "      <th>country</th>\n",
              "      <th>shape</th>\n",
              "      <th>duration (seconds)</th>\n",
              "      <th>duration (hours/min)</th>\n",
              "      <th>comments</th>\n",
              "      <th>date posted</th>\n",
              "      <th>latitude</th>\n",
              "      <th>longitude</th>\n",
              "    </tr>\n",
              "  </thead>\n",
              "  <tbody>\n",
              "    <tr>\n",
              "      <th>0</th>\n",
              "      <td>10/10/1949 20:30</td>\n",
              "      <td>san marcos</td>\n",
              "      <td>tx</td>\n",
              "      <td>us</td>\n",
              "      <td>cylinder</td>\n",
              "      <td>2700.0</td>\n",
              "      <td>45 minutes</td>\n",
              "      <td>This event took place in early fall around 194...</td>\n",
              "      <td>4/27/2004</td>\n",
              "      <td>29.883056</td>\n",
              "      <td>-97.941111</td>\n",
              "    </tr>\n",
              "    <tr>\n",
              "      <th>1</th>\n",
              "      <td>10/10/1949 21:00</td>\n",
              "      <td>lackland afb</td>\n",
              "      <td>tx</td>\n",
              "      <td>NaN</td>\n",
              "      <td>light</td>\n",
              "      <td>7200.0</td>\n",
              "      <td>1-2 hrs</td>\n",
              "      <td>1949 Lackland AFB&amp;#44 TX.  Lights racing acros...</td>\n",
              "      <td>12/16/2005</td>\n",
              "      <td>29.384210</td>\n",
              "      <td>-98.581082</td>\n",
              "    </tr>\n",
              "    <tr>\n",
              "      <th>2</th>\n",
              "      <td>10/10/1955 17:00</td>\n",
              "      <td>chester (uk/england)</td>\n",
              "      <td>NaN</td>\n",
              "      <td>gb</td>\n",
              "      <td>circle</td>\n",
              "      <td>20.0</td>\n",
              "      <td>20 seconds</td>\n",
              "      <td>Green/Orange circular disc over Chester&amp;#44 En...</td>\n",
              "      <td>1/21/2008</td>\n",
              "      <td>53.200000</td>\n",
              "      <td>-2.916667</td>\n",
              "    </tr>\n",
              "    <tr>\n",
              "      <th>3</th>\n",
              "      <td>10/10/1956 21:00</td>\n",
              "      <td>edna</td>\n",
              "      <td>tx</td>\n",
              "      <td>us</td>\n",
              "      <td>circle</td>\n",
              "      <td>20.0</td>\n",
              "      <td>1/2 hour</td>\n",
              "      <td>My older brother and twin sister were leaving ...</td>\n",
              "      <td>1/17/2004</td>\n",
              "      <td>28.978333</td>\n",
              "      <td>-96.645833</td>\n",
              "    </tr>\n",
              "    <tr>\n",
              "      <th>4</th>\n",
              "      <td>10/10/1960 20:00</td>\n",
              "      <td>kaneohe</td>\n",
              "      <td>hi</td>\n",
              "      <td>us</td>\n",
              "      <td>light</td>\n",
              "      <td>900.0</td>\n",
              "      <td>15 minutes</td>\n",
              "      <td>AS a Marine 1st Lt. flying an FJ4B fighter/att...</td>\n",
              "      <td>1/22/2004</td>\n",
              "      <td>21.418056</td>\n",
              "      <td>-157.803611</td>\n",
              "    </tr>\n",
              "    <tr>\n",
              "      <th>...</th>\n",
              "      <td>...</td>\n",
              "      <td>...</td>\n",
              "      <td>...</td>\n",
              "      <td>...</td>\n",
              "      <td>...</td>\n",
              "      <td>...</td>\n",
              "      <td>...</td>\n",
              "      <td>...</td>\n",
              "      <td>...</td>\n",
              "      <td>...</td>\n",
              "      <td>...</td>\n",
              "    </tr>\n",
              "    <tr>\n",
              "      <th>80327</th>\n",
              "      <td>9/9/2013 21:15</td>\n",
              "      <td>nashville</td>\n",
              "      <td>tn</td>\n",
              "      <td>us</td>\n",
              "      <td>light</td>\n",
              "      <td>600.0</td>\n",
              "      <td>10 minutes</td>\n",
              "      <td>Round from the distance/slowly changing colors...</td>\n",
              "      <td>9/30/2013</td>\n",
              "      <td>36.165833</td>\n",
              "      <td>-86.784444</td>\n",
              "    </tr>\n",
              "    <tr>\n",
              "      <th>80328</th>\n",
              "      <td>9/9/2013 22:00</td>\n",
              "      <td>boise</td>\n",
              "      <td>id</td>\n",
              "      <td>us</td>\n",
              "      <td>circle</td>\n",
              "      <td>1200.0</td>\n",
              "      <td>20 minutes</td>\n",
              "      <td>Boise&amp;#44 ID&amp;#44 spherical&amp;#44 20 min&amp;#44 10 r...</td>\n",
              "      <td>9/30/2013</td>\n",
              "      <td>43.613611</td>\n",
              "      <td>-116.202500</td>\n",
              "    </tr>\n",
              "    <tr>\n",
              "      <th>80329</th>\n",
              "      <td>9/9/2013 22:00</td>\n",
              "      <td>napa</td>\n",
              "      <td>ca</td>\n",
              "      <td>us</td>\n",
              "      <td>other</td>\n",
              "      <td>1200.0</td>\n",
              "      <td>hour</td>\n",
              "      <td>Napa UFO&amp;#44</td>\n",
              "      <td>9/30/2013</td>\n",
              "      <td>38.297222</td>\n",
              "      <td>-122.284444</td>\n",
              "    </tr>\n",
              "    <tr>\n",
              "      <th>80330</th>\n",
              "      <td>9/9/2013 22:20</td>\n",
              "      <td>vienna</td>\n",
              "      <td>va</td>\n",
              "      <td>us</td>\n",
              "      <td>circle</td>\n",
              "      <td>5.0</td>\n",
              "      <td>5 seconds</td>\n",
              "      <td>Saw a five gold lit cicular craft moving fastl...</td>\n",
              "      <td>9/30/2013</td>\n",
              "      <td>38.901111</td>\n",
              "      <td>-77.265556</td>\n",
              "    </tr>\n",
              "    <tr>\n",
              "      <th>80331</th>\n",
              "      <td>9/9/2013 23:00</td>\n",
              "      <td>edmond</td>\n",
              "      <td>ok</td>\n",
              "      <td>us</td>\n",
              "      <td>cigar</td>\n",
              "      <td>1020.0</td>\n",
              "      <td>17 minutes</td>\n",
              "      <td>2 witnesses 2  miles apart&amp;#44 Red &amp;amp; White...</td>\n",
              "      <td>9/30/2013</td>\n",
              "      <td>35.652778</td>\n",
              "      <td>-97.477778</td>\n",
              "    </tr>\n",
              "  </tbody>\n",
              "</table>\n",
              "<p>80332 rows × 11 columns</p>\n",
              "</div>\n",
              "      <button class=\"colab-df-convert\" onclick=\"convertToInteractive('df-a180bad5-6b22-4be5-9ee0-db1529f1d880')\"\n",
              "              title=\"Convert this dataframe to an interactive table.\"\n",
              "              style=\"display:none;\">\n",
              "        \n",
              "  <svg xmlns=\"http://www.w3.org/2000/svg\" height=\"24px\"viewBox=\"0 0 24 24\"\n",
              "       width=\"24px\">\n",
              "    <path d=\"M0 0h24v24H0V0z\" fill=\"none\"/>\n",
              "    <path d=\"M18.56 5.44l.94 2.06.94-2.06 2.06-.94-2.06-.94-.94-2.06-.94 2.06-2.06.94zm-11 1L8.5 8.5l.94-2.06 2.06-.94-2.06-.94L8.5 2.5l-.94 2.06-2.06.94zm10 10l.94 2.06.94-2.06 2.06-.94-2.06-.94-.94-2.06-.94 2.06-2.06.94z\"/><path d=\"M17.41 7.96l-1.37-1.37c-.4-.4-.92-.59-1.43-.59-.52 0-1.04.2-1.43.59L10.3 9.45l-7.72 7.72c-.78.78-.78 2.05 0 2.83L4 21.41c.39.39.9.59 1.41.59.51 0 1.02-.2 1.41-.59l7.78-7.78 2.81-2.81c.8-.78.8-2.07 0-2.86zM5.41 20L4 18.59l7.72-7.72 1.47 1.35L5.41 20z\"/>\n",
              "  </svg>\n",
              "      </button>\n",
              "      \n",
              "  <style>\n",
              "    .colab-df-container {\n",
              "      display:flex;\n",
              "      flex-wrap:wrap;\n",
              "      gap: 12px;\n",
              "    }\n",
              "\n",
              "    .colab-df-convert {\n",
              "      background-color: #E8F0FE;\n",
              "      border: none;\n",
              "      border-radius: 50%;\n",
              "      cursor: pointer;\n",
              "      display: none;\n",
              "      fill: #1967D2;\n",
              "      height: 32px;\n",
              "      padding: 0 0 0 0;\n",
              "      width: 32px;\n",
              "    }\n",
              "\n",
              "    .colab-df-convert:hover {\n",
              "      background-color: #E2EBFA;\n",
              "      box-shadow: 0px 1px 2px rgba(60, 64, 67, 0.3), 0px 1px 3px 1px rgba(60, 64, 67, 0.15);\n",
              "      fill: #174EA6;\n",
              "    }\n",
              "\n",
              "    [theme=dark] .colab-df-convert {\n",
              "      background-color: #3B4455;\n",
              "      fill: #D2E3FC;\n",
              "    }\n",
              "\n",
              "    [theme=dark] .colab-df-convert:hover {\n",
              "      background-color: #434B5C;\n",
              "      box-shadow: 0px 1px 3px 1px rgba(0, 0, 0, 0.15);\n",
              "      filter: drop-shadow(0px 1px 2px rgba(0, 0, 0, 0.3));\n",
              "      fill: #FFFFFF;\n",
              "    }\n",
              "  </style>\n",
              "\n",
              "      <script>\n",
              "        const buttonEl =\n",
              "          document.querySelector('#df-a180bad5-6b22-4be5-9ee0-db1529f1d880 button.colab-df-convert');\n",
              "        buttonEl.style.display =\n",
              "          google.colab.kernel.accessAllowed ? 'block' : 'none';\n",
              "\n",
              "        async function convertToInteractive(key) {\n",
              "          const element = document.querySelector('#df-a180bad5-6b22-4be5-9ee0-db1529f1d880');\n",
              "          const dataTable =\n",
              "            await google.colab.kernel.invokeFunction('convertToInteractive',\n",
              "                                                     [key], {});\n",
              "          if (!dataTable) return;\n",
              "\n",
              "          const docLinkHtml = 'Like what you see? Visit the ' +\n",
              "            '<a target=\"_blank\" href=https://colab.research.google.com/notebooks/data_table.ipynb>data table notebook</a>'\n",
              "            + ' to learn more about interactive tables.';\n",
              "          element.innerHTML = '';\n",
              "          dataTable['output_type'] = 'display_data';\n",
              "          await google.colab.output.renderOutput(dataTable, element);\n",
              "          const docLink = document.createElement('div');\n",
              "          docLink.innerHTML = docLinkHtml;\n",
              "          element.appendChild(docLink);\n",
              "        }\n",
              "      </script>\n",
              "    </div>\n",
              "  </div>\n",
              "  "
            ]
          },
          "metadata": {},
          "execution_count": 3
        }
      ]
    },
    {
      "cell_type": "code",
      "source": [
        "df.head()"
      ],
      "metadata": {
        "colab": {
          "base_uri": "https://localhost:8080/",
          "height": 600
        },
        "id": "dhXLUIFroTxa",
        "outputId": "a0f6319f-7be2-4c5f-9d6c-10ca3b909bf1"
      },
      "execution_count": 4,
      "outputs": [
        {
          "output_type": "execute_result",
          "data": {
            "text/plain": [
              "           datetime                  city state country     shape  \\\n",
              "0  10/10/1949 20:30            san marcos    tx      us  cylinder   \n",
              "1  10/10/1949 21:00          lackland afb    tx     NaN     light   \n",
              "2  10/10/1955 17:00  chester (uk/england)   NaN      gb    circle   \n",
              "3  10/10/1956 21:00                  edna    tx      us    circle   \n",
              "4  10/10/1960 20:00               kaneohe    hi      us     light   \n",
              "\n",
              "   duration (seconds) duration (hours/min)  \\\n",
              "0              2700.0           45 minutes   \n",
              "1              7200.0              1-2 hrs   \n",
              "2                20.0           20 seconds   \n",
              "3                20.0             1/2 hour   \n",
              "4               900.0           15 minutes   \n",
              "\n",
              "                                            comments date posted   latitude  \\\n",
              "0  This event took place in early fall around 194...   4/27/2004  29.883056   \n",
              "1  1949 Lackland AFB&#44 TX.  Lights racing acros...  12/16/2005  29.384210   \n",
              "2  Green/Orange circular disc over Chester&#44 En...   1/21/2008  53.200000   \n",
              "3  My older brother and twin sister were leaving ...   1/17/2004  28.978333   \n",
              "4  AS a Marine 1st Lt. flying an FJ4B fighter/att...   1/22/2004  21.418056   \n",
              "\n",
              "    longitude  \n",
              "0  -97.941111  \n",
              "1  -98.581082  \n",
              "2   -2.916667  \n",
              "3  -96.645833  \n",
              "4 -157.803611  "
            ],
            "text/html": [
              "\n",
              "  <div id=\"df-49a4b85b-bfb8-4920-8ddd-67d805d7299f\">\n",
              "    <div class=\"colab-df-container\">\n",
              "      <div>\n",
              "<style scoped>\n",
              "    .dataframe tbody tr th:only-of-type {\n",
              "        vertical-align: middle;\n",
              "    }\n",
              "\n",
              "    .dataframe tbody tr th {\n",
              "        vertical-align: top;\n",
              "    }\n",
              "\n",
              "    .dataframe thead th {\n",
              "        text-align: right;\n",
              "    }\n",
              "</style>\n",
              "<table border=\"1\" class=\"dataframe\">\n",
              "  <thead>\n",
              "    <tr style=\"text-align: right;\">\n",
              "      <th></th>\n",
              "      <th>datetime</th>\n",
              "      <th>city</th>\n",
              "      <th>state</th>\n",
              "      <th>country</th>\n",
              "      <th>shape</th>\n",
              "      <th>duration (seconds)</th>\n",
              "      <th>duration (hours/min)</th>\n",
              "      <th>comments</th>\n",
              "      <th>date posted</th>\n",
              "      <th>latitude</th>\n",
              "      <th>longitude</th>\n",
              "    </tr>\n",
              "  </thead>\n",
              "  <tbody>\n",
              "    <tr>\n",
              "      <th>0</th>\n",
              "      <td>10/10/1949 20:30</td>\n",
              "      <td>san marcos</td>\n",
              "      <td>tx</td>\n",
              "      <td>us</td>\n",
              "      <td>cylinder</td>\n",
              "      <td>2700.0</td>\n",
              "      <td>45 minutes</td>\n",
              "      <td>This event took place in early fall around 194...</td>\n",
              "      <td>4/27/2004</td>\n",
              "      <td>29.883056</td>\n",
              "      <td>-97.941111</td>\n",
              "    </tr>\n",
              "    <tr>\n",
              "      <th>1</th>\n",
              "      <td>10/10/1949 21:00</td>\n",
              "      <td>lackland afb</td>\n",
              "      <td>tx</td>\n",
              "      <td>NaN</td>\n",
              "      <td>light</td>\n",
              "      <td>7200.0</td>\n",
              "      <td>1-2 hrs</td>\n",
              "      <td>1949 Lackland AFB&amp;#44 TX.  Lights racing acros...</td>\n",
              "      <td>12/16/2005</td>\n",
              "      <td>29.384210</td>\n",
              "      <td>-98.581082</td>\n",
              "    </tr>\n",
              "    <tr>\n",
              "      <th>2</th>\n",
              "      <td>10/10/1955 17:00</td>\n",
              "      <td>chester (uk/england)</td>\n",
              "      <td>NaN</td>\n",
              "      <td>gb</td>\n",
              "      <td>circle</td>\n",
              "      <td>20.0</td>\n",
              "      <td>20 seconds</td>\n",
              "      <td>Green/Orange circular disc over Chester&amp;#44 En...</td>\n",
              "      <td>1/21/2008</td>\n",
              "      <td>53.200000</td>\n",
              "      <td>-2.916667</td>\n",
              "    </tr>\n",
              "    <tr>\n",
              "      <th>3</th>\n",
              "      <td>10/10/1956 21:00</td>\n",
              "      <td>edna</td>\n",
              "      <td>tx</td>\n",
              "      <td>us</td>\n",
              "      <td>circle</td>\n",
              "      <td>20.0</td>\n",
              "      <td>1/2 hour</td>\n",
              "      <td>My older brother and twin sister were leaving ...</td>\n",
              "      <td>1/17/2004</td>\n",
              "      <td>28.978333</td>\n",
              "      <td>-96.645833</td>\n",
              "    </tr>\n",
              "    <tr>\n",
              "      <th>4</th>\n",
              "      <td>10/10/1960 20:00</td>\n",
              "      <td>kaneohe</td>\n",
              "      <td>hi</td>\n",
              "      <td>us</td>\n",
              "      <td>light</td>\n",
              "      <td>900.0</td>\n",
              "      <td>15 minutes</td>\n",
              "      <td>AS a Marine 1st Lt. flying an FJ4B fighter/att...</td>\n",
              "      <td>1/22/2004</td>\n",
              "      <td>21.418056</td>\n",
              "      <td>-157.803611</td>\n",
              "    </tr>\n",
              "  </tbody>\n",
              "</table>\n",
              "</div>\n",
              "      <button class=\"colab-df-convert\" onclick=\"convertToInteractive('df-49a4b85b-bfb8-4920-8ddd-67d805d7299f')\"\n",
              "              title=\"Convert this dataframe to an interactive table.\"\n",
              "              style=\"display:none;\">\n",
              "        \n",
              "  <svg xmlns=\"http://www.w3.org/2000/svg\" height=\"24px\"viewBox=\"0 0 24 24\"\n",
              "       width=\"24px\">\n",
              "    <path d=\"M0 0h24v24H0V0z\" fill=\"none\"/>\n",
              "    <path d=\"M18.56 5.44l.94 2.06.94-2.06 2.06-.94-2.06-.94-.94-2.06-.94 2.06-2.06.94zm-11 1L8.5 8.5l.94-2.06 2.06-.94-2.06-.94L8.5 2.5l-.94 2.06-2.06.94zm10 10l.94 2.06.94-2.06 2.06-.94-2.06-.94-.94-2.06-.94 2.06-2.06.94z\"/><path d=\"M17.41 7.96l-1.37-1.37c-.4-.4-.92-.59-1.43-.59-.52 0-1.04.2-1.43.59L10.3 9.45l-7.72 7.72c-.78.78-.78 2.05 0 2.83L4 21.41c.39.39.9.59 1.41.59.51 0 1.02-.2 1.41-.59l7.78-7.78 2.81-2.81c.8-.78.8-2.07 0-2.86zM5.41 20L4 18.59l7.72-7.72 1.47 1.35L5.41 20z\"/>\n",
              "  </svg>\n",
              "      </button>\n",
              "      \n",
              "  <style>\n",
              "    .colab-df-container {\n",
              "      display:flex;\n",
              "      flex-wrap:wrap;\n",
              "      gap: 12px;\n",
              "    }\n",
              "\n",
              "    .colab-df-convert {\n",
              "      background-color: #E8F0FE;\n",
              "      border: none;\n",
              "      border-radius: 50%;\n",
              "      cursor: pointer;\n",
              "      display: none;\n",
              "      fill: #1967D2;\n",
              "      height: 32px;\n",
              "      padding: 0 0 0 0;\n",
              "      width: 32px;\n",
              "    }\n",
              "\n",
              "    .colab-df-convert:hover {\n",
              "      background-color: #E2EBFA;\n",
              "      box-shadow: 0px 1px 2px rgba(60, 64, 67, 0.3), 0px 1px 3px 1px rgba(60, 64, 67, 0.15);\n",
              "      fill: #174EA6;\n",
              "    }\n",
              "\n",
              "    [theme=dark] .colab-df-convert {\n",
              "      background-color: #3B4455;\n",
              "      fill: #D2E3FC;\n",
              "    }\n",
              "\n",
              "    [theme=dark] .colab-df-convert:hover {\n",
              "      background-color: #434B5C;\n",
              "      box-shadow: 0px 1px 3px 1px rgba(0, 0, 0, 0.15);\n",
              "      filter: drop-shadow(0px 1px 2px rgba(0, 0, 0, 0.3));\n",
              "      fill: #FFFFFF;\n",
              "    }\n",
              "  </style>\n",
              "\n",
              "      <script>\n",
              "        const buttonEl =\n",
              "          document.querySelector('#df-49a4b85b-bfb8-4920-8ddd-67d805d7299f button.colab-df-convert');\n",
              "        buttonEl.style.display =\n",
              "          google.colab.kernel.accessAllowed ? 'block' : 'none';\n",
              "\n",
              "        async function convertToInteractive(key) {\n",
              "          const element = document.querySelector('#df-49a4b85b-bfb8-4920-8ddd-67d805d7299f');\n",
              "          const dataTable =\n",
              "            await google.colab.kernel.invokeFunction('convertToInteractive',\n",
              "                                                     [key], {});\n",
              "          if (!dataTable) return;\n",
              "\n",
              "          const docLinkHtml = 'Like what you see? Visit the ' +\n",
              "            '<a target=\"_blank\" href=https://colab.research.google.com/notebooks/data_table.ipynb>data table notebook</a>'\n",
              "            + ' to learn more about interactive tables.';\n",
              "          element.innerHTML = '';\n",
              "          dataTable['output_type'] = 'display_data';\n",
              "          await google.colab.output.renderOutput(dataTable, element);\n",
              "          const docLink = document.createElement('div');\n",
              "          docLink.innerHTML = docLinkHtml;\n",
              "          element.appendChild(docLink);\n",
              "        }\n",
              "      </script>\n",
              "    </div>\n",
              "  </div>\n",
              "  "
            ]
          },
          "metadata": {},
          "execution_count": 4
        }
      ]
    },
    {
      "cell_type": "code",
      "source": [
        "df.columns"
      ],
      "metadata": {
        "colab": {
          "base_uri": "https://localhost:8080/"
        },
        "id": "gNZNSJCfoWMC",
        "outputId": "f19fbadc-0ef0-4313-86f7-c67c6cd77bd3"
      },
      "execution_count": 5,
      "outputs": [
        {
          "output_type": "execute_result",
          "data": {
            "text/plain": [
              "Index(['datetime', 'city', 'state', 'country', 'shape', 'duration (seconds)',\n",
              "       'duration (hours/min)', 'comments', 'date posted', 'latitude',\n",
              "       'longitude'],\n",
              "      dtype='object')"
            ]
          },
          "metadata": {},
          "execution_count": 5
        }
      ]
    },
    {
      "cell_type": "code",
      "source": [
        "ufos = pd.DataFrame({'Seconds':df['duration (seconds)'],'Country':df['country'],'Latitude':df['latitude'],'Longitude':df['longitude']})\n",
        "ufos.Country.unique()"
      ],
      "metadata": {
        "colab": {
          "base_uri": "https://localhost:8080/"
        },
        "id": "nmmpX6ejtPyq",
        "outputId": "caa6773b-b84a-418e-f245-39295f21b854"
      },
      "execution_count": 7,
      "outputs": [
        {
          "output_type": "execute_result",
          "data": {
            "text/plain": [
              "array(['us', nan, 'gb', 'ca', 'au', 'de'], dtype=object)"
            ]
          },
          "metadata": {},
          "execution_count": 7
        }
      ]
    },
    {
      "cell_type": "code",
      "source": [
        "ufos.isna().sum()"
      ],
      "metadata": {
        "colab": {
          "base_uri": "https://localhost:8080/"
        },
        "id": "oyzJ4ukRtxKR",
        "outputId": "d9a5ced9-e5e6-43e3-85ff-c8d8f53bd13b"
      },
      "execution_count": 8,
      "outputs": [
        {
          "output_type": "execute_result",
          "data": {
            "text/plain": [
              "Seconds         0\n",
              "Country      9670\n",
              "Latitude        0\n",
              "Longitude       0\n",
              "dtype: int64"
            ]
          },
          "metadata": {},
          "execution_count": 8
        }
      ]
    },
    {
      "cell_type": "code",
      "source": [
        "ufos.dropna(inplace=True)"
      ],
      "metadata": {
        "id": "KfstPZxeyTqq"
      },
      "execution_count": 10,
      "outputs": []
    },
    {
      "cell_type": "code",
      "source": [
        "ufos.shape"
      ],
      "metadata": {
        "colab": {
          "base_uri": "https://localhost:8080/"
        },
        "id": "F9antx7nyyvI",
        "outputId": "17ca4679-351b-4be2-8763-892fb9ba5c2a"
      },
      "execution_count": 12,
      "outputs": [
        {
          "output_type": "execute_result",
          "data": {
            "text/plain": [
              "(70662, 4)"
            ]
          },
          "metadata": {},
          "execution_count": 12
        }
      ]
    },
    {
      "cell_type": "code",
      "source": [
        "ufos = ufos[(ufos['Seconds'] >=1) & (ufos['Seconds'] <=60)]\n",
        "ufos"
      ],
      "metadata": {
        "colab": {
          "base_uri": "https://localhost:8080/",
          "height": 423
        },
        "id": "uUWUSUpXy6uq",
        "outputId": "ccac7d8a-f671-411d-edb1-741e6455f2a6"
      },
      "execution_count": 15,
      "outputs": [
        {
          "output_type": "execute_result",
          "data": {
            "text/plain": [
              "       Seconds Country   Latitude   Longitude\n",
              "2         20.0      gb  53.200000   -2.916667\n",
              "3         20.0      us  28.978333  -96.645833\n",
              "14        30.0      us  35.823889  -80.253611\n",
              "23        60.0      us  45.582778 -122.352222\n",
              "24         3.0      gb  51.783333   -0.783333\n",
              "...        ...     ...        ...         ...\n",
              "80320     60.0      us  33.209722  -87.569167\n",
              "80321      3.0      us  36.529722  -87.359444\n",
              "80323     60.0      us  29.651389  -82.325000\n",
              "80326     20.0      us  34.101389  -84.519444\n",
              "80330      5.0      us  38.901111  -77.265556\n",
              "\n",
              "[25863 rows x 4 columns]"
            ],
            "text/html": [
              "\n",
              "  <div id=\"df-0b64cac5-99fb-467f-95a3-1638a9c23e2e\">\n",
              "    <div class=\"colab-df-container\">\n",
              "      <div>\n",
              "<style scoped>\n",
              "    .dataframe tbody tr th:only-of-type {\n",
              "        vertical-align: middle;\n",
              "    }\n",
              "\n",
              "    .dataframe tbody tr th {\n",
              "        vertical-align: top;\n",
              "    }\n",
              "\n",
              "    .dataframe thead th {\n",
              "        text-align: right;\n",
              "    }\n",
              "</style>\n",
              "<table border=\"1\" class=\"dataframe\">\n",
              "  <thead>\n",
              "    <tr style=\"text-align: right;\">\n",
              "      <th></th>\n",
              "      <th>Seconds</th>\n",
              "      <th>Country</th>\n",
              "      <th>Latitude</th>\n",
              "      <th>Longitude</th>\n",
              "    </tr>\n",
              "  </thead>\n",
              "  <tbody>\n",
              "    <tr>\n",
              "      <th>2</th>\n",
              "      <td>20.0</td>\n",
              "      <td>gb</td>\n",
              "      <td>53.200000</td>\n",
              "      <td>-2.916667</td>\n",
              "    </tr>\n",
              "    <tr>\n",
              "      <th>3</th>\n",
              "      <td>20.0</td>\n",
              "      <td>us</td>\n",
              "      <td>28.978333</td>\n",
              "      <td>-96.645833</td>\n",
              "    </tr>\n",
              "    <tr>\n",
              "      <th>14</th>\n",
              "      <td>30.0</td>\n",
              "      <td>us</td>\n",
              "      <td>35.823889</td>\n",
              "      <td>-80.253611</td>\n",
              "    </tr>\n",
              "    <tr>\n",
              "      <th>23</th>\n",
              "      <td>60.0</td>\n",
              "      <td>us</td>\n",
              "      <td>45.582778</td>\n",
              "      <td>-122.352222</td>\n",
              "    </tr>\n",
              "    <tr>\n",
              "      <th>24</th>\n",
              "      <td>3.0</td>\n",
              "      <td>gb</td>\n",
              "      <td>51.783333</td>\n",
              "      <td>-0.783333</td>\n",
              "    </tr>\n",
              "    <tr>\n",
              "      <th>...</th>\n",
              "      <td>...</td>\n",
              "      <td>...</td>\n",
              "      <td>...</td>\n",
              "      <td>...</td>\n",
              "    </tr>\n",
              "    <tr>\n",
              "      <th>80320</th>\n",
              "      <td>60.0</td>\n",
              "      <td>us</td>\n",
              "      <td>33.209722</td>\n",
              "      <td>-87.569167</td>\n",
              "    </tr>\n",
              "    <tr>\n",
              "      <th>80321</th>\n",
              "      <td>3.0</td>\n",
              "      <td>us</td>\n",
              "      <td>36.529722</td>\n",
              "      <td>-87.359444</td>\n",
              "    </tr>\n",
              "    <tr>\n",
              "      <th>80323</th>\n",
              "      <td>60.0</td>\n",
              "      <td>us</td>\n",
              "      <td>29.651389</td>\n",
              "      <td>-82.325000</td>\n",
              "    </tr>\n",
              "    <tr>\n",
              "      <th>80326</th>\n",
              "      <td>20.0</td>\n",
              "      <td>us</td>\n",
              "      <td>34.101389</td>\n",
              "      <td>-84.519444</td>\n",
              "    </tr>\n",
              "    <tr>\n",
              "      <th>80330</th>\n",
              "      <td>5.0</td>\n",
              "      <td>us</td>\n",
              "      <td>38.901111</td>\n",
              "      <td>-77.265556</td>\n",
              "    </tr>\n",
              "  </tbody>\n",
              "</table>\n",
              "<p>25863 rows × 4 columns</p>\n",
              "</div>\n",
              "      <button class=\"colab-df-convert\" onclick=\"convertToInteractive('df-0b64cac5-99fb-467f-95a3-1638a9c23e2e')\"\n",
              "              title=\"Convert this dataframe to an interactive table.\"\n",
              "              style=\"display:none;\">\n",
              "        \n",
              "  <svg xmlns=\"http://www.w3.org/2000/svg\" height=\"24px\"viewBox=\"0 0 24 24\"\n",
              "       width=\"24px\">\n",
              "    <path d=\"M0 0h24v24H0V0z\" fill=\"none\"/>\n",
              "    <path d=\"M18.56 5.44l.94 2.06.94-2.06 2.06-.94-2.06-.94-.94-2.06-.94 2.06-2.06.94zm-11 1L8.5 8.5l.94-2.06 2.06-.94-2.06-.94L8.5 2.5l-.94 2.06-2.06.94zm10 10l.94 2.06.94-2.06 2.06-.94-2.06-.94-.94-2.06-.94 2.06-2.06.94z\"/><path d=\"M17.41 7.96l-1.37-1.37c-.4-.4-.92-.59-1.43-.59-.52 0-1.04.2-1.43.59L10.3 9.45l-7.72 7.72c-.78.78-.78 2.05 0 2.83L4 21.41c.39.39.9.59 1.41.59.51 0 1.02-.2 1.41-.59l7.78-7.78 2.81-2.81c.8-.78.8-2.07 0-2.86zM5.41 20L4 18.59l7.72-7.72 1.47 1.35L5.41 20z\"/>\n",
              "  </svg>\n",
              "      </button>\n",
              "      \n",
              "  <style>\n",
              "    .colab-df-container {\n",
              "      display:flex;\n",
              "      flex-wrap:wrap;\n",
              "      gap: 12px;\n",
              "    }\n",
              "\n",
              "    .colab-df-convert {\n",
              "      background-color: #E8F0FE;\n",
              "      border: none;\n",
              "      border-radius: 50%;\n",
              "      cursor: pointer;\n",
              "      display: none;\n",
              "      fill: #1967D2;\n",
              "      height: 32px;\n",
              "      padding: 0 0 0 0;\n",
              "      width: 32px;\n",
              "    }\n",
              "\n",
              "    .colab-df-convert:hover {\n",
              "      background-color: #E2EBFA;\n",
              "      box-shadow: 0px 1px 2px rgba(60, 64, 67, 0.3), 0px 1px 3px 1px rgba(60, 64, 67, 0.15);\n",
              "      fill: #174EA6;\n",
              "    }\n",
              "\n",
              "    [theme=dark] .colab-df-convert {\n",
              "      background-color: #3B4455;\n",
              "      fill: #D2E3FC;\n",
              "    }\n",
              "\n",
              "    [theme=dark] .colab-df-convert:hover {\n",
              "      background-color: #434B5C;\n",
              "      box-shadow: 0px 1px 3px 1px rgba(0, 0, 0, 0.15);\n",
              "      filter: drop-shadow(0px 1px 2px rgba(0, 0, 0, 0.3));\n",
              "      fill: #FFFFFF;\n",
              "    }\n",
              "  </style>\n",
              "\n",
              "      <script>\n",
              "        const buttonEl =\n",
              "          document.querySelector('#df-0b64cac5-99fb-467f-95a3-1638a9c23e2e button.colab-df-convert');\n",
              "        buttonEl.style.display =\n",
              "          google.colab.kernel.accessAllowed ? 'block' : 'none';\n",
              "\n",
              "        async function convertToInteractive(key) {\n",
              "          const element = document.querySelector('#df-0b64cac5-99fb-467f-95a3-1638a9c23e2e');\n",
              "          const dataTable =\n",
              "            await google.colab.kernel.invokeFunction('convertToInteractive',\n",
              "                                                     [key], {});\n",
              "          if (!dataTable) return;\n",
              "\n",
              "          const docLinkHtml = 'Like what you see? Visit the ' +\n",
              "            '<a target=\"_blank\" href=https://colab.research.google.com/notebooks/data_table.ipynb>data table notebook</a>'\n",
              "            + ' to learn more about interactive tables.';\n",
              "          element.innerHTML = '';\n",
              "          dataTable['output_type'] = 'display_data';\n",
              "          await google.colab.output.renderOutput(dataTable, element);\n",
              "          const docLink = document.createElement('div');\n",
              "          docLink.innerHTML = docLinkHtml;\n",
              "          element.appendChild(docLink);\n",
              "        }\n",
              "      </script>\n",
              "    </div>\n",
              "  </div>\n",
              "  "
            ]
          },
          "metadata": {},
          "execution_count": 15
        }
      ]
    },
    {
      "cell_type": "code",
      "source": [
        "ufos.dtypes"
      ],
      "metadata": {
        "colab": {
          "base_uri": "https://localhost:8080/"
        },
        "id": "CfhQ-_qrzBnQ",
        "outputId": "9fc9f072-c241-4c6e-e644-8755b2d828cd"
      },
      "execution_count": 16,
      "outputs": [
        {
          "output_type": "execute_result",
          "data": {
            "text/plain": [
              "Seconds      float64\n",
              "Country       object\n",
              "Latitude     float64\n",
              "Longitude    float64\n",
              "dtype: object"
            ]
          },
          "metadata": {},
          "execution_count": 16
        }
      ]
    },
    {
      "cell_type": "code",
      "source": [
        "from sklearn.preprocessing import LabelEncoder\n",
        "ufos.Country = LabelEncoder().fit_transform(ufos['Country'])\n",
        "ufos.head()\n"
      ],
      "metadata": {
        "colab": {
          "base_uri": "https://localhost:8080/",
          "height": 333
        },
        "id": "CsPZnGm9zizt",
        "outputId": "040f46f1-20df-4656-c814-b0b81e6daa66"
      },
      "execution_count": 18,
      "outputs": [
        {
          "output_type": "stream",
          "name": "stderr",
          "text": [
            "/usr/local/lib/python3.7/dist-packages/pandas/core/generic.py:5516: SettingWithCopyWarning: \n",
            "A value is trying to be set on a copy of a slice from a DataFrame.\n",
            "Try using .loc[row_indexer,col_indexer] = value instead\n",
            "\n",
            "See the caveats in the documentation: https://pandas.pydata.org/pandas-docs/stable/user_guide/indexing.html#returning-a-view-versus-a-copy\n",
            "  self[name] = value\n"
          ]
        },
        {
          "output_type": "execute_result",
          "data": {
            "text/plain": [
              "    Seconds  Country   Latitude   Longitude\n",
              "2      20.0        3  53.200000   -2.916667\n",
              "3      20.0        4  28.978333  -96.645833\n",
              "14     30.0        4  35.823889  -80.253611\n",
              "23     60.0        4  45.582778 -122.352222\n",
              "24      3.0        3  51.783333   -0.783333"
            ],
            "text/html": [
              "\n",
              "  <div id=\"df-fdc9190b-f87c-473a-8504-2992c0132d67\">\n",
              "    <div class=\"colab-df-container\">\n",
              "      <div>\n",
              "<style scoped>\n",
              "    .dataframe tbody tr th:only-of-type {\n",
              "        vertical-align: middle;\n",
              "    }\n",
              "\n",
              "    .dataframe tbody tr th {\n",
              "        vertical-align: top;\n",
              "    }\n",
              "\n",
              "    .dataframe thead th {\n",
              "        text-align: right;\n",
              "    }\n",
              "</style>\n",
              "<table border=\"1\" class=\"dataframe\">\n",
              "  <thead>\n",
              "    <tr style=\"text-align: right;\">\n",
              "      <th></th>\n",
              "      <th>Seconds</th>\n",
              "      <th>Country</th>\n",
              "      <th>Latitude</th>\n",
              "      <th>Longitude</th>\n",
              "    </tr>\n",
              "  </thead>\n",
              "  <tbody>\n",
              "    <tr>\n",
              "      <th>2</th>\n",
              "      <td>20.0</td>\n",
              "      <td>3</td>\n",
              "      <td>53.200000</td>\n",
              "      <td>-2.916667</td>\n",
              "    </tr>\n",
              "    <tr>\n",
              "      <th>3</th>\n",
              "      <td>20.0</td>\n",
              "      <td>4</td>\n",
              "      <td>28.978333</td>\n",
              "      <td>-96.645833</td>\n",
              "    </tr>\n",
              "    <tr>\n",
              "      <th>14</th>\n",
              "      <td>30.0</td>\n",
              "      <td>4</td>\n",
              "      <td>35.823889</td>\n",
              "      <td>-80.253611</td>\n",
              "    </tr>\n",
              "    <tr>\n",
              "      <th>23</th>\n",
              "      <td>60.0</td>\n",
              "      <td>4</td>\n",
              "      <td>45.582778</td>\n",
              "      <td>-122.352222</td>\n",
              "    </tr>\n",
              "    <tr>\n",
              "      <th>24</th>\n",
              "      <td>3.0</td>\n",
              "      <td>3</td>\n",
              "      <td>51.783333</td>\n",
              "      <td>-0.783333</td>\n",
              "    </tr>\n",
              "  </tbody>\n",
              "</table>\n",
              "</div>\n",
              "      <button class=\"colab-df-convert\" onclick=\"convertToInteractive('df-fdc9190b-f87c-473a-8504-2992c0132d67')\"\n",
              "              title=\"Convert this dataframe to an interactive table.\"\n",
              "              style=\"display:none;\">\n",
              "        \n",
              "  <svg xmlns=\"http://www.w3.org/2000/svg\" height=\"24px\"viewBox=\"0 0 24 24\"\n",
              "       width=\"24px\">\n",
              "    <path d=\"M0 0h24v24H0V0z\" fill=\"none\"/>\n",
              "    <path d=\"M18.56 5.44l.94 2.06.94-2.06 2.06-.94-2.06-.94-.94-2.06-.94 2.06-2.06.94zm-11 1L8.5 8.5l.94-2.06 2.06-.94-2.06-.94L8.5 2.5l-.94 2.06-2.06.94zm10 10l.94 2.06.94-2.06 2.06-.94-2.06-.94-.94-2.06-.94 2.06-2.06.94z\"/><path d=\"M17.41 7.96l-1.37-1.37c-.4-.4-.92-.59-1.43-.59-.52 0-1.04.2-1.43.59L10.3 9.45l-7.72 7.72c-.78.78-.78 2.05 0 2.83L4 21.41c.39.39.9.59 1.41.59.51 0 1.02-.2 1.41-.59l7.78-7.78 2.81-2.81c.8-.78.8-2.07 0-2.86zM5.41 20L4 18.59l7.72-7.72 1.47 1.35L5.41 20z\"/>\n",
              "  </svg>\n",
              "      </button>\n",
              "      \n",
              "  <style>\n",
              "    .colab-df-container {\n",
              "      display:flex;\n",
              "      flex-wrap:wrap;\n",
              "      gap: 12px;\n",
              "    }\n",
              "\n",
              "    .colab-df-convert {\n",
              "      background-color: #E8F0FE;\n",
              "      border: none;\n",
              "      border-radius: 50%;\n",
              "      cursor: pointer;\n",
              "      display: none;\n",
              "      fill: #1967D2;\n",
              "      height: 32px;\n",
              "      padding: 0 0 0 0;\n",
              "      width: 32px;\n",
              "    }\n",
              "\n",
              "    .colab-df-convert:hover {\n",
              "      background-color: #E2EBFA;\n",
              "      box-shadow: 0px 1px 2px rgba(60, 64, 67, 0.3), 0px 1px 3px 1px rgba(60, 64, 67, 0.15);\n",
              "      fill: #174EA6;\n",
              "    }\n",
              "\n",
              "    [theme=dark] .colab-df-convert {\n",
              "      background-color: #3B4455;\n",
              "      fill: #D2E3FC;\n",
              "    }\n",
              "\n",
              "    [theme=dark] .colab-df-convert:hover {\n",
              "      background-color: #434B5C;\n",
              "      box-shadow: 0px 1px 3px 1px rgba(0, 0, 0, 0.15);\n",
              "      filter: drop-shadow(0px 1px 2px rgba(0, 0, 0, 0.3));\n",
              "      fill: #FFFFFF;\n",
              "    }\n",
              "  </style>\n",
              "\n",
              "      <script>\n",
              "        const buttonEl =\n",
              "          document.querySelector('#df-fdc9190b-f87c-473a-8504-2992c0132d67 button.colab-df-convert');\n",
              "        buttonEl.style.display =\n",
              "          google.colab.kernel.accessAllowed ? 'block' : 'none';\n",
              "\n",
              "        async function convertToInteractive(key) {\n",
              "          const element = document.querySelector('#df-fdc9190b-f87c-473a-8504-2992c0132d67');\n",
              "          const dataTable =\n",
              "            await google.colab.kernel.invokeFunction('convertToInteractive',\n",
              "                                                     [key], {});\n",
              "          if (!dataTable) return;\n",
              "\n",
              "          const docLinkHtml = 'Like what you see? Visit the ' +\n",
              "            '<a target=\"_blank\" href=https://colab.research.google.com/notebooks/data_table.ipynb>data table notebook</a>'\n",
              "            + ' to learn more about interactive tables.';\n",
              "          element.innerHTML = '';\n",
              "          dataTable['output_type'] = 'display_data';\n",
              "          await google.colab.output.renderOutput(dataTable, element);\n",
              "          const docLink = document.createElement('div');\n",
              "          docLink.innerHTML = docLinkHtml;\n",
              "          element.appendChild(docLink);\n",
              "        }\n",
              "      </script>\n",
              "    </div>\n",
              "  </div>\n",
              "  "
            ]
          },
          "metadata": {},
          "execution_count": 18
        }
      ]
    },
    {
      "cell_type": "code",
      "source": [
        "from sklearn.model_selection import train_test_split\n",
        "from sklearn.linear_model import LogisticRegression\n",
        "from sklearn.metrics import confusion_matrix,accuracy_score,classification_report"
      ],
      "metadata": {
        "id": "BPr1o_Ypz-HY"
      },
      "execution_count": 22,
      "outputs": []
    },
    {
      "cell_type": "code",
      "source": [
        "selected_features = ['Seconds','Latitude','Longitude']\n",
        "X = ufos[selected_features]\n",
        "y = ufos['Country']"
      ],
      "metadata": {
        "id": "Q6sCXfp60bvN"
      },
      "execution_count": 20,
      "outputs": []
    },
    {
      "cell_type": "code",
      "source": [
        "X_train,X_test,y_train,y_test = train_test_split(X,y,random_state=42)"
      ],
      "metadata": {
        "id": "Mdm1D3da0ufb"
      },
      "execution_count": 21,
      "outputs": []
    },
    {
      "cell_type": "code",
      "source": [
        "model = LogisticRegression()\n",
        "model.fit(X_train,y_train)"
      ],
      "metadata": {
        "colab": {
          "base_uri": "https://localhost:8080/"
        },
        "id": "8yZqlFov09bR",
        "outputId": "32e8a8ad-7796-4a33-dcd0-6d4cb83e7075"
      },
      "execution_count": 23,
      "outputs": [
        {
          "output_type": "stream",
          "name": "stderr",
          "text": [
            "/usr/local/lib/python3.7/dist-packages/sklearn/linear_model/_logistic.py:818: ConvergenceWarning: lbfgs failed to converge (status=1):\n",
            "STOP: TOTAL NO. of ITERATIONS REACHED LIMIT.\n",
            "\n",
            "Increase the number of iterations (max_iter) or scale the data as shown in:\n",
            "    https://scikit-learn.org/stable/modules/preprocessing.html\n",
            "Please also refer to the documentation for alternative solver options:\n",
            "    https://scikit-learn.org/stable/modules/linear_model.html#logistic-regression\n",
            "  extra_warning_msg=_LOGISTIC_SOLVER_CONVERGENCE_MSG,\n"
          ]
        },
        {
          "output_type": "execute_result",
          "data": {
            "text/plain": [
              "LogisticRegression()"
            ]
          },
          "metadata": {},
          "execution_count": 23
        }
      ]
    },
    {
      "cell_type": "code",
      "source": [
        "predictions = model.predict(X_test)"
      ],
      "metadata": {
        "id": "P-02Sr9o1P3N"
      },
      "execution_count": 24,
      "outputs": []
    },
    {
      "cell_type": "code",
      "source": [
        "print(classification_report(y_test,predictions))"
      ],
      "metadata": {
        "colab": {
          "base_uri": "https://localhost:8080/"
        },
        "id": "MnHvK9ZS1XA4",
        "outputId": "eaf14de0-d98c-4773-fa1f-742c6820f73e"
      },
      "execution_count": 27,
      "outputs": [
        {
          "output_type": "stream",
          "name": "stdout",
          "text": [
            "              precision    recall  f1-score   support\n",
            "\n",
            "           0       1.00      1.00      1.00        53\n",
            "           1       0.81      0.21      0.34       349\n",
            "           2       1.00      0.90      0.95        10\n",
            "           3       0.99      1.00      1.00       179\n",
            "           4       0.96      1.00      0.98      5875\n",
            "\n",
            "    accuracy                           0.95      6466\n",
            "   macro avg       0.95      0.82      0.85      6466\n",
            "weighted avg       0.95      0.95      0.94      6466\n",
            "\n"
          ]
        }
      ]
    },
    {
      "cell_type": "code",
      "source": [
        "print(confusion_matrix(y_test,predictions))"
      ],
      "metadata": {
        "colab": {
          "base_uri": "https://localhost:8080/"
        },
        "id": "k8LkpkUr1buo",
        "outputId": "d879c760-39b8-41c7-94b3-92e24a3824ec"
      },
      "execution_count": 28,
      "outputs": [
        {
          "output_type": "stream",
          "name": "stdout",
          "text": [
            "[[  53    0    0    0    0]\n",
            " [   0   74    0    0  275]\n",
            " [   0    0    9    1    0]\n",
            " [   0    0    0  179    0]\n",
            " [   0   17    0    0 5858]]\n"
          ]
        }
      ]
    },
    {
      "cell_type": "code",
      "source": [
        "print(accuracy_score(y_test,predictions))"
      ],
      "metadata": {
        "colab": {
          "base_uri": "https://localhost:8080/"
        },
        "id": "Pc7_CldG1j93",
        "outputId": "e08d6ff1-e63c-4e16-90cb-cd7260ebe12c"
      },
      "execution_count": 29,
      "outputs": [
        {
          "output_type": "stream",
          "name": "stdout",
          "text": [
            "0.9546860501082586\n"
          ]
        }
      ]
    },
    {
      "cell_type": "code",
      "source": [
        ""
      ],
      "metadata": {
        "id": "RaCJsa7W17UM"
      },
      "execution_count": null,
      "outputs": []
    },
    {
      "cell_type": "markdown",
      "source": [
        "**Model Pickling**"
      ],
      "metadata": {
        "id": "L4VRYKFK2LeY"
      }
    },
    {
      "cell_type": "code",
      "source": [
        "import pickle\n",
        "\n",
        "pickle.dump(model,open('ufo-model.pkl','wb'))"
      ],
      "metadata": {
        "id": "-O6JH3a42Qfi"
      },
      "execution_count": 31,
      "outputs": []
    },
    {
      "cell_type": "code",
      "source": [
        ""
      ],
      "metadata": {
        "id": "Zki_W4qp2h-B"
      },
      "execution_count": null,
      "outputs": []
    }
  ]
}